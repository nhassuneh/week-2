{
 "cells": [
  {
   "cell_type": "markdown",
   "id": "6cf1aed9",
   "metadata": {},
   "source": [
    "<font color='darkred'> Unless otherwise noted, **this notebook will not be reviewed or autograded.**</font> You are welcome to use it for scratchwork, but **only the files listed in the exercises will be checked.**\n",
    "\n",
    "---\n",
    "\n",
    "# Exercises\n",
    "\n",
    "For these exercises, add your functions to the *apputil\\.py* file. If you like, you're welcome to adjust the *app\\.py* file, but it is not required.\n",
    "\n",
    "## Exercise 1\n",
    "\n",
    "Given enough pennies (1 cent) and nickels (5 cents), write a function `ways(n)` which calculates the number of ways you can make change for a given amount of cents `n`. The function should return the number of ways to yield `n` cents using only pennies and nickels.\n",
    "\n",
    "**Test Cases:**\n",
    "\n",
    "```python\n",
    "function   --->      (num pennies, num nickels)\n",
    "    \n",
    "ways(12)   ---> 3    [(2, 2), (7, 1), (12, 0)]               \n",
    "ways(20)   ---> 5    [(0, 4), (5, 3), (10, 2), (15, 1), (20, 0)]\n",
    "ways(3)    ---> 1    [(3, 0)]\n",
    "ways(0)    ---> 1    [(0, 0)]\n",
    "```\n",
    "\n",
    "*Note: the autograder will be checking only for the function to return the **number** of ways. The items listed to the right, above, are for reference only.*"
   ]
  },
  {
   "cell_type": "markdown",
   "id": "a067cdd5",
   "metadata": {
    "vscode": {
     "languageId": "plaintext"
    }
   },
   "source": [
    "### optional variation\n",
    "\n",
    "Update your `ways` function to incorporate an *arbitrary* set of coin values. I.e., your function should now look something like this:\n",
    "\n",
    "```python\n",
    "def ways(cents, coin_types=[1, 5]):\n",
    "    # code code ...\n",
    "\n",
    ">>> ways(100, [25, 10, 5, 1])\n",
    ">>> 242\n",
    "```\n"
   ]
  },
  {
   "cell_type": "code",
   "execution_count": null,
   "id": "ae5247e1",
   "metadata": {},
   "outputs": [
    {
     "data": {
      "text/plain": [
       "7"
      ]
     },
     "execution_count": 5,
     "metadata": {},
     "output_type": "execute_result"
    }
   ],
   "source": []
  },
  {
   "cell_type": "markdown",
   "id": "28682d59",
   "metadata": {},
   "source": [
    "## Exercise 2\n",
    "\n",
    "Suppose we have student `names`, and test `scores` for each student, respectively. For example, we could have:\n",
    "\n",
    "```python\n",
    "names = np.array(['Hannah', 'Astrid', 'Abdul', 'Mauve', 'Jung'])\n",
    "scores = np.array([99, 71, 85, 62, 91])\n",
    "```\n",
    "\n",
    "### part 1\n",
    "\n",
    "Use NumPy to write a function `lowest_score(names, scores)` that returns the `name` of the student with the lowest `score`.\n",
    "\n",
    "> Hint: take a look at the [argmin](https://numpy.org/doc/stable/reference/generated/numpy.argmin.html) function.\n",
    "\n",
    "### part 2\n",
    "\n",
    "Write a similar function `sort_names(names, scores)` that will list the names of students in *descending* order of test score (i.e., a list of names, with associated scores in order from highest to lowest)."
   ]
  },
  {
   "cell_type": "code",
   "execution_count": null,
   "id": "8d78555f",
   "metadata": {},
   "outputs": [
    {
     "ename": "ModuleNotFoundError",
     "evalue": "No module named 'numpy'",
     "output_type": "error",
     "traceback": [
      "\u001b[1;31m---------------------------------------------------------------------------\u001b[0m",
      "\u001b[1;31mModuleNotFoundError\u001b[0m                       Traceback (most recent call last)",
      "Cell \u001b[1;32mIn[9], line 1\u001b[0m\n\u001b[1;32m----> 1\u001b[0m \u001b[38;5;28;01mimport\u001b[39;00m\u001b[38;5;250m \u001b[39m\u001b[38;5;21;01mnumpy\u001b[39;00m\u001b[38;5;250m \u001b[39m\u001b[38;5;28;01mas\u001b[39;00m\u001b[38;5;250m \u001b[39m\u001b[38;5;21;01mnp\u001b[39;00m\n\u001b[0;32m      3\u001b[0m names \u001b[38;5;241m=\u001b[39m np\u001b[38;5;241m.\u001b[39marray([\u001b[38;5;124m'\u001b[39m\u001b[38;5;124mHannah\u001b[39m\u001b[38;5;124m'\u001b[39m, \u001b[38;5;124m'\u001b[39m\u001b[38;5;124mAstrid\u001b[39m\u001b[38;5;124m'\u001b[39m, \u001b[38;5;124m'\u001b[39m\u001b[38;5;124mAbdul\u001b[39m\u001b[38;5;124m'\u001b[39m, \u001b[38;5;124m'\u001b[39m\u001b[38;5;124mMauve\u001b[39m\u001b[38;5;124m'\u001b[39m, \u001b[38;5;124m'\u001b[39m\u001b[38;5;124mJung\u001b[39m\u001b[38;5;124m'\u001b[39m])\n\u001b[0;32m      4\u001b[0m scores \u001b[38;5;241m=\u001b[39m np\u001b[38;5;241m.\u001b[39marray([\u001b[38;5;241m99\u001b[39m, \u001b[38;5;241m71\u001b[39m, \u001b[38;5;241m85\u001b[39m, \u001b[38;5;241m62\u001b[39m, \u001b[38;5;241m91\u001b[39m])\n",
      "\u001b[1;31mModuleNotFoundError\u001b[0m: No module named 'numpy'"
     ]
    }
   ],
   "source": []
  }
 ],
 "metadata": {
  "kernelspec": {
   "display_name": "Python 3",
   "language": "python",
   "name": "python3"
  },
  "language_info": {
   "codemirror_mode": {
    "name": "ipython",
    "version": 3
   },
   "file_extension": ".py",
   "mimetype": "text/x-python",
   "name": "python",
   "nbconvert_exporter": "python",
   "pygments_lexer": "ipython3",
   "version": "3.10.6"
  }
 },
 "nbformat": 4,
 "nbformat_minor": 5
}
